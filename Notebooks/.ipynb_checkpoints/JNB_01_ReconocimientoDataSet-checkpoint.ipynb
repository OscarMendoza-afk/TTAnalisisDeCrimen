{
 "cells": [
  {
   "cell_type": "markdown",
   "id": "1cf9f502-3d3b-4599-ba4b-97fc5a24b693",
   "metadata": {},
   "source": [
    "# Reconociendo el Dataset"
   ]
  },
  {
   "cell_type": "markdown",
   "id": "855ea037-21b6-40a6-93f1-993f5fe76305",
   "metadata": {},
   "source": [
    "### Importacion de bibliotecas"
   ]
  },
  {
   "cell_type": "code",
   "execution_count": 2,
   "id": "4772777f-1cce-403e-b1ce-77fb8fe9be85",
   "metadata": {},
   "outputs": [],
   "source": [
    "from pathlib import Path\n",
    "import pandas as pd"
   ]
  },
  {
   "cell_type": "markdown",
   "id": "321e9f78-09fb-42e0-8c5b-14c4d4008be6",
   "metadata": {},
   "source": [
    "### Carga de datos"
   ]
  },
  {
   "cell_type": "markdown",
   "id": "0140986c-bd98-430d-96e8-fa052395da6c",
   "metadata": {},
   "source": [
    "Ingresamos el nombre del DataSet"
   ]
  },
  {
   "cell_type": "code",
   "execution_count": 3,
   "id": "76b74b61-e4f2-421e-9773-b4b4086cf0c8",
   "metadata": {},
   "outputs": [],
   "source": [
    "nombreDataSet = \"BaseDatosCompleta\\CrimenesCDMX.csv\""
   ]
  },
  {
   "cell_type": "code",
   "execution_count": 4,
   "id": "14c973ac-9482-4b6c-889c-fa392e15b85d",
   "metadata": {},
   "outputs": [],
   "source": [
    "dirPrincipal = Path.cwd()\n",
    "dirDataSets = dirPrincipal/\"..\""
   ]
  },
  {
   "cell_type": "markdown",
   "id": "d26f7640-a5fa-42ec-8498-06a033a91209",
   "metadata": {},
   "source": [
    "Agregamos `low_memory=false` como parametro de la funcion `pd.read_csv()`"
   ]
  },
  {
   "cell_type": "code",
   "execution_count": 5,
   "id": "d57fe921-7f28-4da7-818f-2435b6e6478c",
   "metadata": {},
   "outputs": [],
   "source": [
    "df = pd.read_csv(dirDataSets/nombreDataSet, low_memory=False)"
   ]
  },
  {
   "cell_type": "markdown",
   "id": "d26db537-2700-4893-bca4-eb7b744f9e72",
   "metadata": {},
   "source": [
    "### Conociendo el Dataset"
   ]
  },
  {
   "cell_type": "markdown",
   "id": "0e7b5830-6b44-402c-afd3-81a5ff8a5284",
   "metadata": {},
   "source": [
    "Analizamos la cabecera del DataSet"
   ]
  },
  {
   "cell_type": "code",
   "execution_count": 6,
   "id": "0e140803-fa07-4f25-bc46-7f9eab2a40cf",
   "metadata": {},
   "outputs": [
    {
     "name": "stdout",
     "output_type": "stream",
     "text": [
      "   ao_hechos mes_hechos         fecha_hechos  ao_inicio mes_inicio  \\\n",
      "0     2016.0      Enero  2016-01-31 22:16:00       2016    Febrero   \n",
      "1     2016.0      Enero  2016-01-31 20:50:00       2016    Febrero   \n",
      "2     2016.0    Febrero  2016-02-01 00:30:00       2016    Febrero   \n",
      "3     2016.0      Enero  2016-01-31 22:00:00       2016    Febrero   \n",
      "4     2015.0  Diciembre  2015-12-25 12:00:00       2016    Febrero   \n",
      "\n",
      "          fecha_inicio                                             delito  \\\n",
      "0  2016-02-01 00:25:44                DAÑO EN PROPIEDAD AJENA INTENCIONAL   \n",
      "1  2016-02-01 00:52:37  ROBO DE VEHICULO DE SERVICIO PARTICULAR CON VI...   \n",
      "2  2016-02-01 01:33:26                       NARCOMENUDEO POSESION SIMPLE   \n",
      "3  2016-02-01 02:09:11     ROBO A TRANSEUNTE EN VIA PUBLICA CON VIOLENCIA   \n",
      "4  2016-02-01 02:16:49                                 DENUNCIA DE HECHOS   \n",
      "\n",
      "                                            fiscalia    agencia  \\\n",
      "0                     INVESTIGACIÓN EN BENITO JUÁREZ       BJ-2   \n",
      "1  INVESTIGACIÓN PARA LA ATENCIÓN DEL DELITO DE R...  ORIENTEII   \n",
      "2  INVESTIGACIÓN PARA LA ATENCIÓN DE NIÑOS, NIÑAS...         57   \n",
      "3                        INVESTIGACIÓN EN IZTAPALAPA      IZP-6   \n",
      "4                     INVESTIGACIÓN EN BENITO JUÁREZ       BJ-1   \n",
      "\n",
      "  unidad_investigacion                                   categoria_delito  \\\n",
      "0               UI-3CD                             DELITO DE BAJO IMPACTO   \n",
      "1               UI-3CD               ROBO DE VEHÍCULO CON Y SIN VIOLENCIA   \n",
      "2               UI-3CD                             DELITO DE BAJO IMPACTO   \n",
      "3               UI-3CD  ROBO A TRANSEUNTE EN VÍA PÚBLICA CON Y SIN VIO...   \n",
      "4               UI-3SD                                 HECHO NO DELICTIVO   \n",
      "\n",
      "       calle_hechos              calle_hechos2           colonia_hechos  \\\n",
      "0  CALZ. DE TLALPAN                  LAGO PTE.          AMÉRICAS UNIDAS   \n",
      "1          SUR 25 A                  GRANJEROS             LOS CIPRESES   \n",
      "2  BATALLONES ROJOS                        NaN  UNIDAD VICENTE GUERRERO   \n",
      "3           GERANIO                 GAVILLEROS          EMILIANO ZAPATA   \n",
      "4     SAN FRANCISCO  AVENIDA COLONIA DEL VALLE         DEL VALLE CENTRO   \n",
      "\n",
      "  alcaldia_hechos competencia   longitud    latitud  tempo  \n",
      "0   BENITO JUAREZ         NaN -99.140215  19.380315    NaN  \n",
      "1      IZTAPALAPA         NaN -99.108403  19.352859    NaN  \n",
      "2      IZTAPALAPA         NaN -99.061321  19.356451    NaN  \n",
      "3      IZTAPALAPA         NaN -98.976379  19.331633    NaN  \n",
      "4   BENITO JUAREZ         NaN -99.172189  19.387114    NaN  \n"
     ]
    }
   ],
   "source": [
    "print (df.head())"
   ]
  },
  {
   "cell_type": "markdown",
   "id": "b84a9538-0e2a-48c1-9e71-139add503312",
   "metadata": {},
   "source": [
    "Dimensiones del DataSet"
   ]
  },
  {
   "cell_type": "code",
   "execution_count": 78,
   "id": "49732505-b9c4-448a-a0c0-061d9214a352",
   "metadata": {},
   "outputs": [
    {
     "name": "stdout",
     "output_type": "stream",
     "text": [
      "(1401331, 19)\n"
     ]
    }
   ],
   "source": [
    "print(df.shape)"
   ]
  },
  {
   "cell_type": "markdown",
   "id": "36cc1253-2198-413a-8c0d-c455a2986659",
   "metadata": {},
   "source": [
    "Atributos del DataSet"
   ]
  },
  {
   "cell_type": "code",
   "execution_count": 80,
   "id": "d5f180e3-ea42-4214-9e2d-24ca23bef0fb",
   "metadata": {},
   "outputs": [
    {
     "name": "stdout",
     "output_type": "stream",
     "text": [
      "Index(['ao_hechos', 'mes_hechos', 'fecha_hechos', 'ao_inicio', 'mes_inicio',\n",
      "       'fecha_inicio', 'delito', 'fiscalia', 'agencia', 'unidad_investigacion',\n",
      "       'categoria_delito', 'calle_hechos', 'calle_hechos2', 'colonia_hechos',\n",
      "       'alcaldia_hechos', 'competencia', 'longitud', 'latitud', 'tempo'],\n",
      "      dtype='object')\n"
     ]
    }
   ],
   "source": [
    "print (df.columns)"
   ]
  },
  {
   "cell_type": "markdown",
   "id": "43229940-d065-4f53-a400-ce4802fbbf63",
   "metadata": {},
   "source": [
    "Informacion general sobre valores nulos y tipos de datos por atributo"
   ]
  },
  {
   "cell_type": "code",
   "execution_count": 18,
   "id": "e33cf9a4-c0eb-4415-bc37-249ea548f0a8",
   "metadata": {},
   "outputs": [
    {
     "name": "stdout",
     "output_type": "stream",
     "text": [
      "<class 'pandas.core.frame.DataFrame'>\n",
      "RangeIndex: 1401331 entries, 0 to 1401330\n",
      "Data columns (total 19 columns):\n",
      " #   Column                Non-Null Count    Dtype  \n",
      "---  ------                --------------    -----  \n",
      " 0   ao_hechos             1400873 non-null  float64\n",
      " 1   mes_hechos            1400873 non-null  object \n",
      " 2   fecha_hechos          1400873 non-null  object \n",
      " 3   ao_inicio             1401331 non-null  int64  \n",
      " 4   mes_inicio            1401331 non-null  object \n",
      " 5   fecha_inicio          1401328 non-null  object \n",
      " 6   delito                1401331 non-null  object \n",
      " 7   fiscalia              1401329 non-null  object \n",
      " 8   agencia               1401331 non-null  object \n",
      " 9   unidad_investigacion  1401104 non-null  object \n",
      " 10  categoria_delito      1401331 non-null  object \n",
      " 11  calle_hechos          1397390 non-null  object \n",
      " 12  calle_hechos2         539997 non-null   object \n",
      " 13  colonia_hechos        1340993 non-null  object \n",
      " 14  alcaldia_hechos       1397166 non-null  object \n",
      " 15  competencia           337252 non-null   object \n",
      " 16  longitud              1341941 non-null  float64\n",
      " 17  latitud               1341941 non-null  float64\n",
      " 18  tempo                 0 non-null        float64\n",
      "dtypes: float64(4), int64(1), object(14)\n",
      "memory usage: 203.1+ MB\n"
     ]
    },
    {
     "ename": "AttributeError",
     "evalue": "'NoneType' object has no attribute 'columns'",
     "output_type": "error",
     "traceback": [
      "\u001b[1;31m---------------------------------------------------------------------------\u001b[0m",
      "\u001b[1;31mAttributeError\u001b[0m                            Traceback (most recent call last)",
      "\u001b[1;32m<ipython-input-18-7ae0e91efe4c>\u001b[0m in \u001b[0;36m<module>\u001b[1;34m\u001b[0m\n\u001b[1;32m----> 1\u001b[1;33m \u001b[0mprint\u001b[0m\u001b[1;33m(\u001b[0m\u001b[0mdf\u001b[0m\u001b[1;33m.\u001b[0m\u001b[0minfo\u001b[0m\u001b[1;33m(\u001b[0m\u001b[1;33m)\u001b[0m\u001b[1;33m.\u001b[0m\u001b[0mcolumns\u001b[0m\u001b[1;33m)\u001b[0m\u001b[1;33m\u001b[0m\u001b[1;33m\u001b[0m\u001b[0m\n\u001b[0m",
      "\u001b[1;31mAttributeError\u001b[0m: 'NoneType' object has no attribute 'columns'"
     ]
    }
   ],
   "source": [
    "print(df.info())"
   ]
  },
  {
   "cell_type": "markdown",
   "id": "38736148-a899-451d-bdaf-57fe770a4265",
   "metadata": {},
   "source": [
    "Descripcion de los datos numericos de la base de datos"
   ]
  },
  {
   "cell_type": "code",
   "execution_count": 85,
   "id": "f1864ab8-2c9e-4c40-a31b-4904ea1df933",
   "metadata": {},
   "outputs": [
    {
     "name": "stdout",
     "output_type": "stream",
     "text": [
      "          ao_hechos     ao_inicio      longitud       latitud  tempo\n",
      "count  1.400873e+06  1.401331e+06  1.341941e+06  1.341941e+06    0.0\n",
      "mean   2.018462e+03  2.018617e+03 -9.913714e+01  1.938701e+01    NaN\n",
      "std    2.022233e+00  1.728106e+00  6.015875e-02  7.029166e-02    NaN\n",
      "min    1.906000e+03  2.016000e+03 -1.002319e+02  1.909535e+01    NaN\n",
      "25%    2.017000e+03  2.017000e+03 -9.917560e+01  1.933889e+01    NaN\n",
      "50%    2.018000e+03  2.019000e+03 -9.914198e+01  1.938953e+01    NaN\n",
      "75%    2.020000e+03  2.020000e+03 -9.909932e+01  1.943780e+01    NaN\n",
      "max    2.022000e+03  2.022000e+03 -9.894686e+01  1.958333e+01    NaN\n"
     ]
    }
   ],
   "source": [
    "print(df.describe())"
   ]
  },
  {
   "cell_type": "markdown",
   "id": "ee3462d5-b873-4a2a-87f3-9209ff551274",
   "metadata": {},
   "source": [
    "Conteo ordenado de delitos registrados por año"
   ]
  },
  {
   "cell_type": "code",
   "execution_count": 101,
   "id": "6523658c-ca2a-4305-a61e-e70e91416734",
   "metadata": {},
   "outputs": [
    {
     "name": "stdout",
     "output_type": "stream",
     "text": [
      "2018.0    254383\n",
      "2019.0    244563\n",
      "2017.0    227453\n",
      "2021.0    218659\n",
      "2020.0    203033\n",
      "2016.0    195100\n",
      "2022.0     28029\n",
      "2015.0     16088\n",
      "2014.0      4374\n",
      "2013.0      2244\n",
      "Name: ao_hechos, dtype: int64\n",
      "\n",
      "1 años: 254383 delitos, porcentaje de recuperacion: 18.152956011106582\n",
      "2 años: 498946 delitos, porcentaje de recuperacion: 35.60514967555845\n",
      "3 años: 726399 delitos, porcentaje de recuperacion: 51.83636128794696\n",
      "4 años: 945058 delitos, porcentaje de recuperacion: 67.44002666036789\n",
      "5 años: 1148091 delitos, porcentaje de recuperacion: 81.9286093007291\n",
      "6 años: 1343191 delitos, porcentaje de recuperacion: 95.85108728772859\n",
      "7 años: 1371220 delitos, porcentaje de recuperacion: 97.85125712626068\n",
      "8 años: 1387308 delitos, porcentaje de recuperacion: 98.99930851454795\n",
      "9 años: 1391682 delitos, porcentaje de recuperacion: 99.31144033779314\n"
     ]
    }
   ],
   "source": [
    "print(df['ao_hechos'].value_counts(dropna=False).head(10))\n",
    "print(\"\")\n",
    "for i in range (1, 10):\n",
    "    numDelitos = sum(list(df['ao_hechos'].value_counts(dropna=False).head(i)))\n",
    "    porcentajeRec = numDelitos * 100 / df.shape[0]\n",
    "    print(str(i) + \" años: \"+ str(numDelitos) + \" delitos, porcentaje de recuperacion: \" + str(porcentajeRec))\n"
   ]
  },
  {
   "cell_type": "markdown",
   "id": "d42b2926-21d9-407e-8aea-111f28c0d15f",
   "metadata": {},
   "source": [
    "Conteo de delitos por año de inicio de denuncia"
   ]
  },
  {
   "cell_type": "code",
   "execution_count": 106,
   "id": "8a3cc1d2-92db-49c9-b1d1-d4cfde5e8b8a",
   "metadata": {},
   "outputs": [
    {
     "name": "stdout",
     "output_type": "stream",
     "text": [
      "2018    255312\n",
      "2019    250387\n",
      "2021    230427\n",
      "2017    228323\n",
      "2020    204044\n",
      "2016    197913\n",
      "2022     34925\n",
      "Name: ao_inicio, dtype: int64\n"
     ]
    }
   ],
   "source": [
    "print(df['ao_inicio'].value_counts(dropna=False))"
   ]
  },
  {
   "cell_type": "markdown",
   "id": "25e6fe31-e31e-4e46-82a2-544809efc558",
   "metadata": {},
   "source": [
    "Clasificacion de los principales delitos registrados"
   ]
  },
  {
   "cell_type": "code",
   "execution_count": 7,
   "id": "a6b9443f-1adf-4e33-b4d4-6d1fbf8f9298",
   "metadata": {},
   "outputs": [
    {
     "name": "stdout",
     "output_type": "stream",
     "text": [
      "VIOLENCIA FAMILIAR                                       151656\n",
      "FRAUDE                                                    90375\n",
      "ROBO DE OBJETOS                                           81389\n",
      "AMENAZAS                                                  78163\n",
      "ROBO A NEGOCIO SIN VIOLENCIA                              68808\n",
      "ROBO A TRANSEUNTE EN VIA PUBLICA CON VIOLENCIA            67860\n",
      "ROBO DE ACCESORIOS DE AUTO                                44976\n",
      "DENUNCIA DE HECHOS                                        40159\n",
      "ROBO DE OBJETOS DEL INTERIOR DE UN VEHICULO               38538\n",
      "ROBO DE VEHICULO DE SERVICIO PARTICULAR SIN VIOLENCIA     34423\n",
      "Name: delito, dtype: int64\n"
     ]
    }
   ],
   "source": [
    "print(df['delito'].value_counts(dropna=False).head(10))"
   ]
  },
  {
   "cell_type": "markdown",
   "id": "02d9ede9-572d-46d0-bd58-4530e3eb94da",
   "metadata": {},
   "source": [
    "Clasificacion de las principales categorias de los delitos cometidos"
   ]
  },
  {
   "cell_type": "code",
   "execution_count": 12,
   "id": "64e5fb1e-bfe8-4e31-bc42-98f10bdf6821",
   "metadata": {},
   "outputs": [
    {
     "name": "stdout",
     "output_type": "stream",
     "text": [
      "DELITO DE BAJO IMPACTO                                   1106875\n",
      "ROBO A TRANSEUNTE EN VÍA PÚBLICA CON Y SIN VIOLENCIA       77984\n",
      "ROBO DE VEHÍCULO CON Y SIN VIOLENCIA                       70313\n",
      "HECHO NO DELICTIVO                                         59507\n",
      "ROBO A NEGOCIO CON VIOLENCIA                               22214\n",
      "ROBO A REPARTIDOR CON Y SIN VIOLENCIA                      14032\n",
      "ROBO A PASAJERO A BORDO DEL METRO CON Y SIN VIOLENCIA      11895\n",
      "LESIONES DOLOSAS POR DISPARO DE ARMA DE FUEGO               9657\n",
      "VIOLACIÓN                                                   8295\n",
      "HOMICIDIO DOLOSO                                            7764\n",
      "Name: categoria_delito, dtype: int64\n"
     ]
    }
   ],
   "source": [
    "print(df['categoria_delito'].value_counts(dropna=False).head(10))"
   ]
  },
  {
   "cell_type": "markdown",
   "id": "1b6ca06d-f115-41d1-a986-ae428d35ccb4",
   "metadata": {},
   "source": [
    "Clasificacion de las fiscalias con mayor numero de delitos registrados"
   ]
  },
  {
   "cell_type": "code",
   "execution_count": 8,
   "id": "e5ce73a4-4cd1-42ba-9372-e2aaa39d07bc",
   "metadata": {},
   "outputs": [
    {
     "name": "stdout",
     "output_type": "stream",
     "text": [
      "INVESTIGACIÓN EN IZTAPALAPA                            114947\n",
      "INVESTIGACIÓN EN CUAUHTEMOC                            114405\n",
      "INVESTIGACIÓN EN GUSTAVO A. MADERO                      78355\n",
      "INVESTIGACIÓN EN BENITO JUÁREZ                          74528\n",
      "INVESTIGACIÓN EN ÁLVARO OBREGÓN                         54129\n",
      "INVESTIGACIÓN EN COYOACÁN                               53685\n",
      "INVESTIGACIÓN EN MIGUEL HIDALGO                         53210\n",
      "FISCALÍA DE INVESTIGACIÓN TERRITORIAL EN IZTAPALAPA     50114\n",
      "INVESTIGACIÓN EN TLALPAN                                48244\n",
      "INVESTIGACIÓN EN VENUSTIANO CARRANZA                    45444\n",
      "Name: fiscalia, dtype: int64\n"
     ]
    }
   ],
   "source": [
    "print(df['fiscalia'].value_counts(dropna=False).head(10))"
   ]
  },
  {
   "cell_type": "markdown",
   "id": "941a0117-2dd8-437c-9dff-473327f8ebd5",
   "metadata": {},
   "source": [
    "Clasificacion de las colonias con mayor numero de delitos registrados"
   ]
  },
  {
   "cell_type": "code",
   "execution_count": 15,
   "id": "2dfa9326-6dba-4908-ab10-659a6492fe5b",
   "metadata": {},
   "outputs": [
    {
     "name": "stdout",
     "output_type": "stream",
     "text": [
      "NaN                  60338\n",
      "CENTRO               44872\n",
      "DOCTORES             26923\n",
      "DEL VALLE CENTRO     19729\n",
      "ROMA NORTE           16523\n",
      "NARVARTE             14434\n",
      "BUENAVISTA           13271\n",
      "MORELOS              12407\n",
      "JUÁREZ               11494\n",
      "AGRÍCOLA ORIENTAL    11411\n",
      "Name: colonia_hechos, dtype: int64\n"
     ]
    }
   ],
   "source": [
    "print(df['colonia_hechos'].value_counts(dropna=False).head(10))"
   ]
  },
  {
   "cell_type": "markdown",
   "id": "d638bfe3-3280-4d05-9e45-882ad965c55b",
   "metadata": {},
   "source": [
    "Clasificacion de las calles con mayor numero de delitos registrados"
   ]
  },
  {
   "cell_type": "code",
   "execution_count": 16,
   "id": "b8ae57a1-9f98-4a52-b5bb-f83941a27bfc",
   "metadata": {},
   "outputs": [
    {
     "name": "stdout",
     "output_type": "stream",
     "text": [
      "CALZADA DE TLALPAN             5995\n",
      "EJE CENTRAL LAZARO CARDENAS    5112\n",
      "SIN CALLES DEL SAP             5046\n",
      "CALZADA IGNACIO ZARAGOZA       4769\n",
      "AVENIDA TLAHUAC                4053\n",
      "NaN                            3941\n",
      "AV. INSURGENTES SUR            3403\n",
      "PASEO DE LA REFORMA            3374\n",
      "CALZADA DE GUADALUPE           3374\n",
      "INSURGENTES SUR                3164\n",
      "Name: calle_hechos, dtype: int64\n"
     ]
    }
   ],
   "source": [
    "print(df['calle_hechos'].value_counts(dropna=False).head(10))"
   ]
  },
  {
   "cell_type": "code",
   "execution_count": 14,
   "id": "2981b4ce-2a4d-4610-bbae-ec41680b7a42",
   "metadata": {},
   "outputs": [
    {
     "data": {
      "text/plain": [
       "<AxesSubplot:title={'center':'ao_hechos'}, xlabel='mes_hechos'>"
      ]
     },
     "execution_count": 14,
     "metadata": {},
     "output_type": "execute_result"
    },
    {
     "data": {
      "image/png": "[encoded data removed]",
      "text/plain": [
       "<Figure size 432x288 with 1 Axes>"
      ]
     },
     "metadata": {
      "needs_background": "light"
     },
     "output_type": "display_data"
    }
   ],
   "source": [
    "df.boxplot(column='ao_hechos', by='mes_hechos')"
   ]
  },
  {
   "cell_type": "markdown",
   "id": "638dbc60-b8f2-4381-a467-cc25d990a992",
   "metadata": {},
   "source": []
  }
 ],
 "metadata": {
  "kernelspec": {
   "display_name": "Python 3",
   "language": "python",
   "name": "python3"
  },
  "language_info": {
   "codemirror_mode": {
    "name": "ipython",
    "version": 3
   },
   "file_extension": ".py",
   "mimetype": "text/x-python",
   "name": "python",
   "nbconvert_exporter": "python",
   "pygments_lexer": "ipython3",
   "version": "3.8.8"
  }
 },
 "nbformat": 4,
 "nbformat_minor": 5
}
