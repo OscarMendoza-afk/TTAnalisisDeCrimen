{
 "cells": [
  {
   "cell_type": "markdown",
   "id": "4132e169-3596-48b7-89c9-43e8a64ff4fd",
   "metadata": {},
   "source": [
    "# Limpieza de datos"
   ]
  },
  {
   "cell_type": "markdown",
   "id": "6eb938f6-fb94-4d9a-8506-d58cb2537e9a",
   "metadata": {},
   "source": [
    "### Importacion de bibliotecas"
   ]
  },
  {
   "cell_type": "code",
   "execution_count": 29,
   "id": "b5c0e0e2-b556-4a9d-8210-d33a8fe05d3b",
   "metadata": {},
   "outputs": [],
   "source": [
    "from pathlib import Path\n",
    "import pandas as pd\n",
    "import numpy as np"
   ]
  },
  {
   "cell_type": "markdown",
   "id": "153d69f8-9bc4-4ac4-9a4f-5e89ab0d26d7",
   "metadata": {
    "tags": []
   },
   "source": [
    "### Carga de datos"
   ]
  },
  {
   "cell_type": "markdown",
   "id": "cade8919-5616-472f-8674-d7b6f488c329",
   "metadata": {},
   "source": [
    "Agregamos `low_memory=false` como parametro de la funcion `pd.read_csv()`"
   ]
  },
  {
   "cell_type": "code",
   "execution_count": 30,
   "id": "c0c12a6c-458f-441f-bf72-5612e77816ed",
   "metadata": {},
   "outputs": [],
   "source": [
    "df = pd.read_csv(\"..\\..\\..\\DataSet\\DataBase.csv\", low_memory=False)"
   ]
  },
  {
   "cell_type": "markdown",
   "id": "3748a6d2-52a2-4f03-b6f4-fd49041540fe",
   "metadata": {},
   "source": [
    "### Identificacion de datos"
   ]
  },
  {
   "cell_type": "code",
   "execution_count": 31,
   "id": "c4a725f1-f908-45e1-9014-da8202ae2bb1",
   "metadata": {},
   "outputs": [
    {
     "name": "stdout",
     "output_type": "stream",
     "text": [
      "<class 'pandas.core.frame.DataFrame'>\n",
      "RangeIndex: 1401331 entries, 0 to 1401330\n",
      "Data columns (total 19 columns):\n",
      " #   Column                Non-Null Count    Dtype  \n",
      "---  ------                --------------    -----  \n",
      " 0   ao_hechos             1400873 non-null  float64\n",
      " 1   mes_hechos            1400873 non-null  object \n",
      " 2   fecha_hechos          1400873 non-null  object \n",
      " 3   ao_inicio             1401331 non-null  int64  \n",
      " 4   mes_inicio            1401331 non-null  object \n",
      " 5   fecha_inicio          1401328 non-null  object \n",
      " 6   delito                1401331 non-null  object \n",
      " 7   fiscalia              1401329 non-null  object \n",
      " 8   agencia               1401331 non-null  object \n",
      " 9   unidad_investigacion  1401104 non-null  object \n",
      " 10  categoria_delito      1401331 non-null  object \n",
      " 11  calle_hechos          1397390 non-null  object \n",
      " 12  calle_hechos2         539997 non-null   object \n",
      " 13  colonia_hechos        1340993 non-null  object \n",
      " 14  alcaldia_hechos       1397166 non-null  object \n",
      " 15  competencia           337252 non-null   object \n",
      " 16  longitud              1341941 non-null  float64\n",
      " 17  latitud               1341941 non-null  float64\n",
      " 18  tempo                 0 non-null        float64\n",
      "dtypes: float64(4), int64(1), object(14)\n",
      "memory usage: 203.1+ MB\n",
      "None\n"
     ]
    }
   ],
   "source": [
    "print(df.info())"
   ]
  },
  {
   "cell_type": "markdown",
   "id": "893a92d8-5cd2-4381-91f1-8a73843a23cb",
   "metadata": {},
   "source": [
    "Con `.value_counts` sabremos cuantos registros tenemos   "
   ]
  },
  {
   "cell_type": "code",
   "execution_count": 32,
   "id": "5fc609d9-b5e6-4306-bc34-06b3b5a91b12",
   "metadata": {},
   "outputs": [
    {
     "name": "stdout",
     "output_type": "stream",
     "text": [
      "2018.0    254383\n",
      "2019.0    244563\n",
      "2017.0    227453\n",
      "2021.0    218659\n",
      "2020.0    203033\n",
      "           ...  \n",
      "1954.0         1\n",
      "1906.0         1\n",
      "1930.0         1\n",
      "1942.0         1\n",
      "1960.0         1\n",
      "Name: ao_hechos, Length: 76, dtype: int64\n"
     ]
    }
   ],
   "source": [
    "print(df['ao_hechos'].value_counts(dropna=False))"
   ]
  },
  {
   "cell_type": "markdown",
   "id": "daa21887-cfbe-4348-b6e1-15706a723135",
   "metadata": {},
   "source": [
    "Eliminar columnas que no resultan utilies con `.drop`"
   ]
  },
  {
   "cell_type": "code",
   "execution_count": 39,
   "id": "535b51ac-4d5d-4193-894f-6f4af8df1e3d",
   "metadata": {},
   "outputs": [],
   "source": [
    "dfL = df.drop([\n",
    "            'tempo', \n",
    "            'ao_inicio', \n",
    "            'mes_inicio', \n",
    "            'fecha_inicio', \n",
    "            'agencia', \n",
    "            'unidad_investigacion',\n",
    "            'competencia'] , axis=1)\n"
   ]
  },
  {
   "cell_type": "markdown",
   "id": "b5ee2c6a-a61d-4c9f-8907-894b94099848",
   "metadata": {},
   "source": [
    "se borran los compos \"NA\" de la columna longitud pero se deja el espacio en blnaco"
   ]
  },
  {
   "cell_type": "code",
   "execution_count": 40,
   "id": "77b88035-c7d5-4458-876d-432338468db3",
   "metadata": {},
   "outputs": [],
   "source": [
    "dfL.drop(dfL[dfL['longitud'] == 'NA'].index, inplace = True)"
   ]
  },
  {
   "cell_type": "markdown",
   "id": "5f9be9de-6a5e-42b6-8041-0bdd8c79d8ee",
   "metadata": {},
   "source": [
    "Se eliminan las filas con el espacio en blnaco"
   ]
  },
  {
   "cell_type": "code",
   "execution_count": 41,
   "id": "014047ab-3682-42fa-9e93-7c92830e7a3d",
   "metadata": {},
   "outputs": [],
   "source": [
    "dfL = dfL[df['longitud'].notna()]"
   ]
  },
  {
   "cell_type": "markdown",
   "id": "9119d525-5b51-4bc0-95d1-19ef6cffafa9",
   "metadata": {},
   "source": [
    "Confirmamos que se hayan eliminado, imprimeindo las columnas de la base, esto con `print(df.columns)`"
   ]
  },
  {
   "cell_type": "code",
   "execution_count": 42,
   "id": "0b59c924-1b92-4b2b-898a-a1c027c78615",
   "metadata": {},
   "outputs": [
    {
     "name": "stdout",
     "output_type": "stream",
     "text": [
      "Index(['ao_hechos', 'mes_hechos', 'fecha_hechos', 'ao_inicio', 'mes_inicio',\n",
      "       'fecha_inicio', 'delito', 'fiscalia', 'agencia', 'unidad_investigacion',\n",
      "       'categoria_delito', 'calle_hechos', 'calle_hechos2', 'colonia_hechos',\n",
      "       'alcaldia_hechos', 'competencia', 'longitud', 'latitud', 'tempo'],\n",
      "      dtype='object')\n"
     ]
    }
   ],
   "source": [
    "print(df.columns)"
   ]
  },
  {
   "cell_type": "markdown",
   "id": "ade0380a-8b18-4eef-a5ec-bf07aa6b3bd8",
   "metadata": {},
   "source": [
    "### Separación de fecha en dia y hora"
   ]
  },
  {
   "cell_type": "markdown",
   "id": "f49ed69a-049b-4c05-9b7b-b9329f8c9bc1",
   "metadata": {},
   "source": [
    "Nos interesa saber que dia fue el delito asi como la hora en la que se sutito, tenemos estos datos en la columna \"fecha_hechos\" pero debemos separarlos"
   ]
  },
  {
   "cell_type": "code",
   "execution_count": 43,
   "id": "1a03bfd9-3f9b-4c55-8161-b06b12cb10fb",
   "metadata": {},
   "outputs": [],
   "source": [
    "dfT = dfL[\"fecha_hechos\"].str.split('[- ]', expand=True)"
   ]
  },
  {
   "cell_type": "markdown",
   "id": "91de4f1c-f024-4354-bffd-241264272ce8",
   "metadata": {},
   "source": [
    "Esto nos genera un nuevo dataframe pero con numeros como nombres de columnas por lo que debemos cambiarlos"
   ]
  },
  {
   "cell_type": "code",
   "execution_count": 45,
   "id": "177dcfb5-e9b8-4802-9959-15665b543bfa",
   "metadata": {},
   "outputs": [
    {
     "name": "stdout",
     "output_type": "stream",
     "text": [
      "            0 dia_hechos   2 hora_hechos\n",
      "0        2016         01  31    22:16:00\n",
      "1        2016         01  31    20:50:00\n",
      "2        2016         02  01    00:30:00\n",
      "3        2016         01  31    22:00:00\n",
      "4        2015         12  25    12:00:00\n",
      "...       ...        ...  ..         ...\n",
      "1401326  2022         02  28    06:26:00\n",
      "1401327  2022         02  28    12:00:00\n",
      "1401328  2021         05  05    09:00:00\n",
      "1401329  2022         02  20    15:50:00\n",
      "1401330  2022         02  02    12:40:00\n",
      "\n",
      "[1341941 rows x 4 columns]\n"
     ]
    }
   ],
   "source": [
    "dfT = dfT.rename(columns={1 :'dia_hechos', 3 :'hora_hechos'})\n",
    "\n",
    "print(dfT)"
   ]
  },
  {
   "cell_type": "markdown",
   "id": "db9a7e6a-815e-4370-a352-c4686e9891a7",
   "metadata": {},
   "source": [
    "Eliminamos las columnas que no necesitamos"
   ]
  },
  {
   "cell_type": "code",
   "execution_count": 46,
   "id": "14485ed8-64f8-4e3e-8d22-01ac20cd0eb1",
   "metadata": {},
   "outputs": [
    {
     "name": "stdout",
     "output_type": "stream",
     "text": [
      "        dia_hechos hora_hechos\n",
      "0               01    22:16:00\n",
      "1               01    20:50:00\n",
      "2               02    00:30:00\n",
      "3               01    22:00:00\n",
      "4               12    12:00:00\n",
      "...            ...         ...\n",
      "1401326         02    06:26:00\n",
      "1401327         02    12:00:00\n",
      "1401328         05    09:00:00\n",
      "1401329         02    15:50:00\n",
      "1401330         02    12:40:00\n",
      "\n",
      "[1341941 rows x 2 columns]\n"
     ]
    }
   ],
   "source": [
    "dfT = dfT.drop([0,2] , axis=1)\n",
    "print(dfT)"
   ]
  },
  {
   "cell_type": "markdown",
   "id": "6e829dbf-6905-4590-aba5-3f7d53d8d9d4",
   "metadata": {},
   "source": [
    "Ahora agregaremos estas dos columnas a nuestro dataframe principal esto con `.concat`"
   ]
  },
  {
   "cell_type": "code",
   "execution_count": 49,
   "id": "c193cc1f-78f7-4451-87a2-dcfa5fccb4a0",
   "metadata": {},
   "outputs": [],
   "source": [
    "dfS= pd.concat([dfL ,dfT], axis=1)"
   ]
  },
  {
   "cell_type": "markdown",
   "id": "cc953995-2e91-469e-9979-b8c56fb4e572",
   "metadata": {},
   "source": [
    "Eliminaremos la columna \"fecha:hehcos\" pues ya no es relevante y acomodaremos las columnas agregadas para que sea de la forma dd/mm/aaaa"
   ]
  },
  {
   "cell_type": "code",
   "execution_count": 50,
   "id": "5a497e64-e95d-47ee-894c-448ec1d1bb95",
   "metadata": {},
   "outputs": [
    {
     "name": "stdout",
     "output_type": "stream",
     "text": [
      "        dia_hechos mes_hechos  ao_hechos hora_hechos  \\\n",
      "0               01      Enero     2016.0    22:16:00   \n",
      "1               01      Enero     2016.0    20:50:00   \n",
      "2               02    Febrero     2016.0    00:30:00   \n",
      "3               01      Enero     2016.0    22:00:00   \n",
      "4               12  Diciembre     2015.0    12:00:00   \n",
      "...            ...        ...        ...         ...   \n",
      "1401326         02    Febrero     2022.0    06:26:00   \n",
      "1401327         02    Febrero     2022.0    12:00:00   \n",
      "1401328         05       Mayo     2021.0    09:00:00   \n",
      "1401329         02    Febrero     2022.0    15:50:00   \n",
      "1401330         02    Febrero     2022.0    12:40:00   \n",
      "\n",
      "                                                    delito  \\\n",
      "0                      DAÑO EN PROPIEDAD AJENA INTENCIONAL   \n",
      "1        ROBO DE VEHICULO DE SERVICIO PARTICULAR CON VI...   \n",
      "2                             NARCOMENUDEO POSESION SIMPLE   \n",
      "3           ROBO A TRANSEUNTE EN VIA PUBLICA CON VIOLENCIA   \n",
      "4                                       DENUNCIA DE HECHOS   \n",
      "...                                                    ...   \n",
      "1401326                                             FRAUDE   \n",
      "1401327                    ROBO A REPARTIDOR CON VIOLENCIA   \n",
      "1401328                                    ROBO DE OBJETOS   \n",
      "1401329                        ROBO DE VEHICULO DE PEDALES   \n",
      "1401330                            USURPACIÓN DE IDENTIDAD   \n",
      "\n",
      "                                                  fiscalia  \\\n",
      "0                           INVESTIGACIÓN EN BENITO JUÁREZ   \n",
      "1        INVESTIGACIÓN PARA LA ATENCIÓN DEL DELITO DE R...   \n",
      "2        INVESTIGACIÓN PARA LA ATENCIÓN DE NIÑOS, NIÑAS...   \n",
      "3                              INVESTIGACIÓN EN IZTAPALAPA   \n",
      "4                           INVESTIGACIÓN EN BENITO JUÁREZ   \n",
      "...                                                    ...   \n",
      "1401326                        AGENCIA DE DENUNCIA DIGITAL   \n",
      "1401327  FISCALÍA DE INVESTIGACIÓN TERRITORIAL EN IZTAC...   \n",
      "1401328                        AGENCIA DE DENUNCIA DIGITAL   \n",
      "1401329                        AGENCIA DE DENUNCIA DIGITAL   \n",
      "1401330  FISCALÍA DE INVESTIGACIÓN TERRITORIAL EN CUAUH...   \n",
      "\n",
      "                                          categoria_delito  \\\n",
      "0                                   DELITO DE BAJO IMPACTO   \n",
      "1                     ROBO DE VEHÍCULO CON Y SIN VIOLENCIA   \n",
      "2                                   DELITO DE BAJO IMPACTO   \n",
      "3        ROBO A TRANSEUNTE EN VÍA PÚBLICA CON Y SIN VIO...   \n",
      "4                                       HECHO NO DELICTIVO   \n",
      "...                                                    ...   \n",
      "1401326                             DELITO DE BAJO IMPACTO   \n",
      "1401327              ROBO A REPARTIDOR CON Y SIN VIOLENCIA   \n",
      "1401328                             DELITO DE BAJO IMPACTO   \n",
      "1401329                             DELITO DE BAJO IMPACTO   \n",
      "1401330                             DELITO DE BAJO IMPACTO   \n",
      "\n",
      "                             calle_hechos              calle_hechos2  \\\n",
      "0                        CALZ. DE TLALPAN                  LAGO PTE.   \n",
      "1                                SUR 25 A                  GRANJEROS   \n",
      "2                        BATALLONES ROJOS                        NaN   \n",
      "3                                 GERANIO                 GAVILLEROS   \n",
      "4                           SAN FRANCISCO  AVENIDA COLONIA DEL VALLE   \n",
      "...                                   ...                        ...   \n",
      "1401326  PROLONGACION PASEO DE LA REFORMA                        NaN   \n",
      "1401327         CALLE 7 ESQUINA ANA MARIA                        NaN   \n",
      "1401328              RIACHUELO SERPENTINO                   FAROLITO   \n",
      "1401329            CALZ ERMITA IZTAPALAPA         PERIFÉRICO ORIENTE   \n",
      "1401330            DOCTOR  RIO DE LA LOZA                        NaN   \n",
      "\n",
      "                  colonia_hechos alcaldia_hechos   longitud    latitud  \n",
      "0                AMÉRICAS UNIDAS   BENITO JUAREZ -99.140215  19.380315  \n",
      "1                   LOS CIPRESES      IZTAPALAPA -99.108403  19.352859  \n",
      "2        UNIDAD VICENTE GUERRERO      IZTAPALAPA -99.061321  19.356451  \n",
      "3                EMILIANO ZAPATA      IZTAPALAPA -98.976379  19.331633  \n",
      "4               DEL VALLE CENTRO   BENITO JUAREZ -99.172189  19.387114  \n",
      "...                          ...             ...        ...        ...  \n",
      "1401326        LOMAS DE SANTA FE  ALVARO OBREGON -99.240525  19.386986  \n",
      "1401327       AGRÍCOLA PANTITLAN       IZTACALCO -99.057760  19.405911  \n",
      "1401328                 SAN JOSÉ         TLAHUAC -98.994593  19.279794  \n",
      "1401329     CONSTITUCIÓN DE 1917      IZTAPALAPA -99.063578  19.346178  \n",
      "1401330                 DOCTORES      CUAUHTEMOC -99.151806  19.425880  \n",
      "\n",
      "[1341941 rows x 13 columns]\n"
     ]
    }
   ],
   "source": [
    "dfS = dfS.drop(['fecha_hechos'] , axis=1)\n",
    "\n",
    "dfS = dfS[['dia_hechos', 'mes_hechos', 'ao_hechos', 'hora_hechos', 'delito', 'fiscalia', 'categoria_delito',\n",
    "           'calle_hechos', 'calle_hechos2', 'colonia_hechos', 'alcaldia_hechos', 'longitud', 'latitud']]\n",
    "print(dfS)"
   ]
  },
  {
   "cell_type": "markdown",
   "id": "ecf589da-e8fa-47db-9e7b-bac21d26b385",
   "metadata": {},
   "source": [
    "### Filtar zonas de estuido"
   ]
  },
  {
   "cell_type": "markdown",
   "id": "35a43daf-54ab-4f41-af22-9d6950198512",
   "metadata": {},
   "source": [
    "El siguinte bloque de codigo lo que hara sera filtrar las zonas de estudio de nuestro dataframe principal para despues crearle uno a cada zona"
   ]
  },
  {
   "cell_type": "code",
   "execution_count": 51,
   "id": "4e2d4738-49c5-4f6f-ad65-440b3e1dbd66",
   "metadata": {},
   "outputs": [],
   "source": [
    "dfA = dfS.copy()\n",
    "\n",
    "\n",
    "dfIZTAPALAPA= dfA.copy()\n",
    "dfIZTAPALAPA.drop(dfIZTAPALAPA[dfIZTAPALAPA['alcaldia_hechos'] != 'IZTAPALAPA'].index, inplace = True)  #filtramos las alcaldias por iztapalapa\n",
    "dfIZTAPALAPA = dfIZTAPALAPA[dfIZTAPALAPA['alcaldia_hechos'].notna()] #se eliminan las filas con el espacio en blnaco\n",
    "\n",
    "dfGUSTAVOAMADER = dfA.copy()\n",
    "dfGUSTAVOAMADER.drop(dfGUSTAVOAMADER [dfGUSTAVOAMADER ['alcaldia_hechos'] != 'GUSTAVO A MADERO'].index, inplace = True)  #filtramos las alcaldias por Gustavo A Madero\n",
    "dfGUSTAVOAMADER = dfGUSTAVOAMADER [dfGUSTAVOAMADER ['alcaldia_hechos'].notna()] #se eliminan las filas con el espacio en blnaco\n",
    "\n",
    "dfAZCAPOTZALCO = dfA.copy()\n",
    "dfAZCAPOTZALCO.drop(dfAZCAPOTZALCO [dfAZCAPOTZALCO ['alcaldia_hechos'] != 'AZCAPOTZALCO'].index, inplace = True)  #filtramos las alcaldias por Azcapotzalco\n",
    "dfAZCAPOTZALCO = dfAZCAPOTZALCO [dfAZCAPOTZALCO ['alcaldia_hechos'].notna()] #se eliminan las filas con el espacio en blnaco\n",
    "\n",
    "dfVENUSTIANOCARRANZA = dfA.copy()\n",
    "dfVENUSTIANOCARRANZA.drop(dfVENUSTIANOCARRANZA [dfVENUSTIANOCARRANZA ['alcaldia_hechos'] != 'VENUSTIANO CARRANZA'].index, inplace = True)  #filtramos las alcaldias por Venustiano Carranza\n",
    "dfVENUSTIANOCARRANZA = dfVENUSTIANOCARRANZA [dfVENUSTIANOCARRANZA ['alcaldia_hechos'].notna()] #se eliminan las filas con el espacio en blnaco\n",
    "\n",
    "dfCUAUHTEMOC = dfA.copy()\n",
    "dfCUAUHTEMOC.drop(dfCUAUHTEMOC [dfCUAUHTEMOC ['alcaldia_hechos'] != 'CUAUHTEMOC'].index, inplace = True)  #filtramos las alcaldias por Cuauhtemoc\n",
    "dfCUAUHTEMOC = dfCUAUHTEMOC [dfCUAUHTEMOC ['alcaldia_hechos'].notna()] #se eliminan las filas con el espacio en blnaco\n",
    "\n",
    "dfIZTACALCO = dfA.copy()\n",
    "dfIZTACALCO.drop(dfIZTACALCO [dfIZTACALCO ['alcaldia_hechos'] != 'IZTACALCO'].index, inplace = True)  #filtramos las alcaldias por Iztacalco\n",
    "dfIZTACALCO = dfIZTACALCO [dfIZTACALCO ['alcaldia_hechos'].notna()] #se eliminan las filas con el espacio en blnaco"
   ]
  },
  {
   "cell_type": "markdown",
   "id": "ef17954a-3e72-4246-9ae8-5d3c3c7f0158",
   "metadata": {},
   "source": [
    "Juntaremos todas las zonas de estudio en un solo dataframe que volvera a ser nuestro principal"
   ]
  },
  {
   "cell_type": "code",
   "execution_count": 53,
   "id": "e6f57470-6ed7-418a-8439-1e858f836dcd",
   "metadata": {},
   "outputs": [
    {
     "name": "stdout",
     "output_type": "stream",
     "text": [
      "        dia_hechos mes_hechos  ao_hechos hora_hechos  \\\n",
      "1               01      Enero     2016.0    20:50:00   \n",
      "2               02    Febrero     2016.0    00:30:00   \n",
      "3               01      Enero     2016.0    22:00:00   \n",
      "17              01      Enero     2016.0    05:45:00   \n",
      "19              02    Febrero     2016.0    07:45:00   \n",
      "...            ...        ...        ...         ...   \n",
      "1401299         02    Febrero     2022.0    09:00:00   \n",
      "1401301         02    Febrero     2022.0    12:00:00   \n",
      "1401309         02    Febrero     2022.0    13:00:00   \n",
      "1401315         02    Febrero     2022.0    00:45:00   \n",
      "1401327         02    Febrero     2022.0    12:00:00   \n",
      "\n",
      "                                                    delito  \\\n",
      "1        ROBO DE VEHICULO DE SERVICIO PARTICULAR CON VI...   \n",
      "2                             NARCOMENUDEO POSESION SIMPLE   \n",
      "3           ROBO A TRANSEUNTE EN VIA PUBLICA CON VIOLENCIA   \n",
      "17       ROBO DE VEHICULO DE SERVICIO PARTICULAR SIN VI...   \n",
      "19                     PERDIDA DE LA VIDA POR OTRAS CAUSAS   \n",
      "...                                                    ...   \n",
      "1401299                                 VIOLENCIA FAMILIAR   \n",
      "1401301                    ROBO A REPARTIDOR CON VIOLENCIA   \n",
      "1401309                    ROBO A REPARTIDOR CON VIOLENCIA   \n",
      "1401315     ROBO A TRANSEUNTE EN VIA PUBLICA SIN VIOLENCIA   \n",
      "1401327                    ROBO A REPARTIDOR CON VIOLENCIA   \n",
      "\n",
      "                                                  fiscalia  \\\n",
      "1        INVESTIGACIÓN PARA LA ATENCIÓN DEL DELITO DE R...   \n",
      "2        INVESTIGACIÓN PARA LA ATENCIÓN DE NIÑOS, NIÑAS...   \n",
      "3                              INVESTIGACIÓN EN IZTAPALAPA   \n",
      "17                             INVESTIGACIÓN EN IZTAPALAPA   \n",
      "19                             INVESTIGACIÓN EN IZTAPALAPA   \n",
      "...                                                    ...   \n",
      "1401299  FISCALÍA DE INVESTIGACIÓN TERRITORIAL EN IZTAC...   \n",
      "1401301  FISCALÍA DE INVESTIGACIÓN TERRITORIAL EN IZTAC...   \n",
      "1401309  FISCALÍA DE INVESTIGACIÓN TERRITORIAL EN IZTAC...   \n",
      "1401315  FISCALÍA DE INVESTIGACIÓN TERRITORIAL EN ALVAR...   \n",
      "1401327  FISCALÍA DE INVESTIGACIÓN TERRITORIAL EN IZTAC...   \n",
      "\n",
      "                                          categoria_delito  \\\n",
      "1                     ROBO DE VEHÍCULO CON Y SIN VIOLENCIA   \n",
      "2                                   DELITO DE BAJO IMPACTO   \n",
      "3        ROBO A TRANSEUNTE EN VÍA PÚBLICA CON Y SIN VIO...   \n",
      "17                    ROBO DE VEHÍCULO CON Y SIN VIOLENCIA   \n",
      "19                                      HECHO NO DELICTIVO   \n",
      "...                                                    ...   \n",
      "1401299                             DELITO DE BAJO IMPACTO   \n",
      "1401301              ROBO A REPARTIDOR CON Y SIN VIOLENCIA   \n",
      "1401309              ROBO A REPARTIDOR CON Y SIN VIOLENCIA   \n",
      "1401315  ROBO A TRANSEUNTE EN VÍA PÚBLICA CON Y SIN VIO...   \n",
      "1401327              ROBO A REPARTIDOR CON Y SIN VIOLENCIA   \n",
      "\n",
      "                        calle_hechos calle_hechos2           colonia_hechos  \\\n",
      "1                           SUR 25 A     GRANJEROS             LOS CIPRESES   \n",
      "2                   BATALLONES ROJOS           NaN  UNIDAD VICENTE GUERRERO   \n",
      "3                            GERANIO    GAVILLEROS          EMILIANO ZAPATA   \n",
      "17               CAMINO DE LAS MINAS           NaN               BUENAVISTA   \n",
      "19            ANDADOR FELIPE ANGELES        PIRAÑA         PREDIO EL MOLINO   \n",
      "...                              ...           ...                      ...   \n",
      "1401299                      SUR 119           NaN          JUVENTINO ROSAS   \n",
      "1401301  TOMAS VAZQUEZ Y SANTA ANITA           NaN        NUEVA SANTA ANITA   \n",
      "1401309    FRANCISCO I MADERO NUM 32           NaN               SAN MIGUEL   \n",
      "1401315             RIO DE LA PIEDAD           NaN           GRANJAS MÉXICO   \n",
      "1401327    CALLE 7 ESQUINA ANA MARIA           NaN       AGRÍCOLA PANTITLAN   \n",
      "\n",
      "        alcaldia_hechos   longitud    latitud  \n",
      "1            IZTAPALAPA -99.108403  19.352859  \n",
      "2            IZTAPALAPA -99.061321  19.356451  \n",
      "3            IZTAPALAPA -98.976379  19.331633  \n",
      "17           IZTAPALAPA -99.024027  19.325467  \n",
      "19           IZTAPALAPA -99.067766  19.288195  \n",
      "...                 ...        ...        ...  \n",
      "1401299       IZTACALCO -99.105729  19.390463  \n",
      "1401301       IZTACALCO -99.130298  19.398680  \n",
      "1401309       IZTACALCO -99.120760  19.392100  \n",
      "1401315       IZTACALCO -99.093393  19.408592  \n",
      "1401327       IZTACALCO -99.057760  19.405911  \n",
      "\n",
      "[744573 rows x 13 columns]\n"
     ]
    }
   ],
   "source": [
    "dfFinal = pd.concat([dfIZTAPALAPA,dfGUSTAVOAMADER,dfAZCAPOTZALCO,dfVENUSTIANOCARRANZA,dfCUAUHTEMOC,dfIZTACALCO])\n",
    "print(dfFinal)"
   ]
  },
  {
   "cell_type": "markdown",
   "id": "73132a9d-3742-410d-b9bd-8e5489ceff10",
   "metadata": {},
   "source": [
    "### Filtrar años de interes"
   ]
  },
  {
   "cell_type": "markdown",
   "id": "53f9f6ea-f2df-4e00-bfb6-aabbd86d1ded",
   "metadata": {},
   "source": [
    "Este bloque de codigo lo que hará es que eliminara los las filas de los años menores a 2016 y mayores a 2021"
   ]
  },
  {
   "cell_type": "code",
   "execution_count": 54,
   "id": "4bb153fb-d701-4952-b4f3-1613603ffb75",
   "metadata": {},
   "outputs": [],
   "source": [
    "dfFinal.drop(dfFinal[dfFinal['ao_hechos'] <= 2015 ].index, inplace = True)  \n",
    "\n",
    "dfFinal = dfFinal[dfFinal['ao_hechos'].notna()] \n",
    "\n",
    "dfFinal.drop(dfFinal[dfFinal['ao_hechos'] >= 2022 ].index, inplace = True)  \n",
    "\n",
    "dfFinal = dfFinal[dfFinal['ao_hechos'].notna()] "
   ]
  },
  {
   "cell_type": "markdown",
   "id": "429b044f-0de6-44bc-9465-145660424a2a",
   "metadata": {},
   "source": [
    "Con esto nuestra base estaria limpia según neustras necesidades, podemos hacer un ultimo chequeo y ver como es que quedo conformada"
   ]
  },
  {
   "cell_type": "code",
   "execution_count": 55,
   "id": "79711ac5-f769-4e40-99b4-ee27c99e5f34",
   "metadata": {},
   "outputs": [
    {
     "name": "stdout",
     "output_type": "stream",
     "text": [
      "<class 'pandas.core.frame.DataFrame'>\n",
      "Int64Index: 714383 entries, 1 to 1400430\n",
      "Data columns (total 13 columns):\n",
      " #   Column            Non-Null Count   Dtype  \n",
      "---  ------            --------------   -----  \n",
      " 0   dia_hechos        714383 non-null  object \n",
      " 1   mes_hechos        714383 non-null  object \n",
      " 2   ao_hechos         714383 non-null  float64\n",
      " 3   hora_hechos       714383 non-null  object \n",
      " 4   delito            714383 non-null  object \n",
      " 5   fiscalia          714383 non-null  object \n",
      " 6   categoria_delito  714383 non-null  object \n",
      " 7   calle_hechos      713254 non-null  object \n",
      " 8   calle_hechos2     293996 non-null  object \n",
      " 9   colonia_hechos    713800 non-null  object \n",
      " 10  alcaldia_hechos   714383 non-null  object \n",
      " 11  longitud          714383 non-null  float64\n",
      " 12  latitud           714383 non-null  float64\n",
      "dtypes: float64(3), object(10)\n",
      "memory usage: 76.3+ MB\n",
      "None\n"
     ]
    }
   ],
   "source": [
    "print(dfFinal.info())"
   ]
  }
 ],
 "metadata": {
  "kernelspec": {
   "display_name": "Python 3 (ipykernel)",
   "language": "python",
   "name": "python3"
  },
  "language_info": {
   "codemirror_mode": {
    "name": "ipython",
    "version": 3
   },
   "file_extension": ".py",
   "mimetype": "text/x-python",
   "name": "python",
   "nbconvert_exporter": "python",
   "pygments_lexer": "ipython3",
   "version": "3.9.12"
  }
 },
 "nbformat": 4,
 "nbformat_minor": 5
}
