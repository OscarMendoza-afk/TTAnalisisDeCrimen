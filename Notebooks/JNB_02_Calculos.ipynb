{
 "cells": [
  {
   "cell_type": "markdown",
   "id": "8f72ec87-177a-4d2a-9169-2fa682ba8e95",
   "metadata": {},
   "source": [
    "# Calculos para la eliminacion de datos"
   ]
  },
  {
   "cell_type": "markdown",
   "id": "90ce2592-9115-4189-9aac-9fa87d1100fc",
   "metadata": {},
   "source": [
    "La idea general es aprovechar la mayor cantidad de informacion sin\n",
    "que esta sea considerada como un outlier, por lo tanto se calculara\n",
    "en funcion de los años un perodo ideal para todos los datasets de\n",
    "alcaldia."
   ]
  },
  {
   "cell_type": "markdown",
   "id": "1f2d69ae-9a95-49ca-bbfe-47cf613a1a77",
   "metadata": {},
   "source": [
    "## Importacion de bibliotecas"
   ]
  },
  {
   "cell_type": "code",
   "execution_count": 19,
   "id": "aa3e41d6-dd4b-4816-b0c7-cde56989c26c",
   "metadata": {},
   "outputs": [],
   "source": [
    "from pathlib import Path\n",
    "import pandas as pd\n",
    "import numpy as np"
   ]
  },
  {
   "cell_type": "markdown",
   "id": "a31077e0-7b5d-437d-a2bc-9871baf0f36a",
   "metadata": {},
   "source": [
    "## Carga de datos"
   ]
  },
  {
   "cell_type": "markdown",
   "id": "30f78740-b2f3-4aae-baf4-a253f0458895",
   "metadata": {},
   "source": [
    "Ingresamos el nombre del Dataset"
   ]
  },
  {
   "cell_type": "code",
   "execution_count": 15,
   "id": "791be840-6a19-4cda-8f56-8845a734f4ed",
   "metadata": {},
   "outputs": [],
   "source": [
    "nombreCatalogo = str(r\"C:\\Users\\victo\\Downloads\\catalogoDataSets.txt\")\n",
    "\n",
    "with open(nombreCatalogo, 'r') as f:\n",
    "    dataSetsNombres = [line.strip() for line in f]"
   ]
  },
  {
   "cell_type": "code",
   "execution_count": 25,
   "id": "08e50a31-01ef-443a-8cb0-f8e93e965e5f",
   "metadata": {},
   "outputs": [],
   "source": [
    "dirDataSets = str(r\"C:\\Users\\victo\\Downloads\\CrimenCDMX.csv\")"
   ]
  },
  {
   "cell_type": "markdown",
   "id": "db9ce026-20e5-4b23-95f4-36847419176f",
   "metadata": {},
   "source": [
    "Agregamos `low_memory=false` como parametro de la funcion `pd.read_csv()`"
   ]
  },
  {
   "cell_type": "code",
   "execution_count": 26,
   "id": "062de6f9-bcfa-4c42-87d8-125c159f4684",
   "metadata": {},
   "outputs": [],
   "source": [
    "df = pd.read_csv(dirDataSets, low_memory=False)"
   ]
  },
  {
   "cell_type": "code",
   "execution_count": 26,
   "id": "4e04d9d8-8a9b-461c-87d1-67fad3916ef3",
   "metadata": {},
   "outputs": [
    {
     "name": "stdout",
     "output_type": "stream",
     "text": [
      "2018.0    15093\n",
      "2019.0    14497\n",
      "2017.0    12789\n",
      "2021.0    12488\n",
      "2020.0    11746\n",
      "2016.0    10865\n",
      "2022.0     1633\n",
      "2015.0      671\n",
      "2014.0      152\n",
      "2013.0       81\n",
      "2012.0       68\n",
      "2011.0       39\n",
      "2010.0       38\n",
      "2009.0       31\n",
      "NaN          29\n",
      "2008.0       21\n",
      "2007.0       16\n",
      "2006.0       11\n",
      "2001.0       10\n",
      "2005.0        5\n",
      "2000.0        5\n",
      "2004.0        5\n",
      "2002.0        5\n",
      "2003.0        4\n",
      "1969.0        3\n",
      "1989.0        3\n",
      "1987.0        3\n",
      "1996.0        2\n",
      "1999.0        2\n",
      "1997.0        2\n",
      "1998.0        2\n",
      "1990.0        2\n",
      "1988.0        1\n",
      "1967.0        1\n",
      "1995.0        1\n",
      "1984.0        1\n",
      "1952.0        1\n",
      "1974.0        1\n",
      "1981.0        1\n",
      "1976.0        1\n",
      "Name: ao_hechos, dtype: int64\n"
     ]
    }
   ],
   "source": [
    "print(df['ao_hechos'].value_counts(dropna=False))"
   ]
  },
  {
   "cell_type": "code",
   "execution_count": null,
   "id": "c3f287b7-0e55-443e-8bad-118c9d7fadf2",
   "metadata": {},
   "outputs": [],
   "source": []
  },
  {
   "cell_type": "code",
   "execution_count": null,
   "id": "91b36093-489f-4d32-8f7d-de8b432188f5",
   "metadata": {},
   "outputs": [],
   "source": []
  }
 ],
 "metadata": {
  "kernelspec": {
   "display_name": "Python 3 (ipykernel)",
   "language": "python",
   "name": "python3"
  },
  "language_info": {
   "codemirror_mode": {
    "name": "ipython",
    "version": 3
   },
   "file_extension": ".py",
   "mimetype": "text/x-python",
   "name": "python",
   "nbconvert_exporter": "python",
   "pygments_lexer": "ipython3",
   "version": "3.9.12"
  }
 },
 "nbformat": 4,
 "nbformat_minor": 5
}
