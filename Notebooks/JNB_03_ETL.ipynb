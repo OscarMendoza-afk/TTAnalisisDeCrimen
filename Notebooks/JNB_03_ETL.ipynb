{
 "cells": [
  {
   "cell_type": "markdown",
   "id": "4132e169-3596-48b7-89c9-43e8a64ff4fd",
   "metadata": {},
   "source": [
    "# Limpieza de datos"
   ]
  },
  {
   "cell_type": "markdown",
   "id": "6eb938f6-fb94-4d9a-8506-d58cb2537e9a",
   "metadata": {},
   "source": [
    "### Importacion de bibliotecas"
   ]
  },
  {
   "cell_type": "code",
   "execution_count": 8,
   "id": "b5c0e0e2-b556-4a9d-8210-d33a8fe05d3b",
   "metadata": {},
   "outputs": [],
   "source": [
    "from pathlib import Path\n",
    "import pandas as pd\n",
    "import numpy as np"
   ]
  },
  {
   "cell_type": "markdown",
   "id": "153d69f8-9bc4-4ac4-9a4f-5e89ab0d26d7",
   "metadata": {
    "tags": []
   },
   "source": [
    "### Carga de datos"
   ]
  },
  {
   "cell_type": "markdown",
   "id": "41075ade-a486-4a8e-bf63-b3e58ffdd119",
   "metadata": {},
   "source": [
    "Ingresamos el nombre del Dataset"
   ]
  },
  {
   "cell_type": "code",
   "execution_count": 2,
   "id": "08560d91-1a2e-4f67-8819-3b9a8fee2588",
   "metadata": {},
   "outputs": [],
   "source": [
    "nombreDataSet = \"IztacalcoUTF.csv\""
   ]
  },
  {
   "cell_type": "code",
   "execution_count": 3,
   "id": "9d2bdd5e-d48c-4714-b2c8-2a8926adb410",
   "metadata": {},
   "outputs": [],
   "source": [
    "dirPrincipal = Path.cwd()\n",
    "dirDataSets = dirPrincipal/\"DataSets\""
   ]
  },
  {
   "cell_type": "markdown",
   "id": "cade8919-5616-472f-8674-d7b6f488c329",
   "metadata": {},
   "source": [
    "Agregamos `low_memory=false` como parametro de la funcion `pd.read_csv()`"
   ]
  },
  {
   "cell_type": "code",
   "execution_count": 4,
   "id": "c0c12a6c-458f-441f-bf72-5612e77816ed",
   "metadata": {},
   "outputs": [],
   "source": [
    "df = pd.read_csv(dirDataSets/nombreDataSet, low_memory=False)"
   ]
  },
  {
   "cell_type": "markdown",
   "id": "3748a6d2-52a2-4f03-b6f4-fd49041540fe",
   "metadata": {},
   "source": [
    "### Conversion de datos"
   ]
  },
  {
   "cell_type": "code",
   "execution_count": 14,
   "id": "c4a725f1-f908-45e1-9014-da8202ae2bb1",
   "metadata": {},
   "outputs": [
    {
     "name": "stdout",
     "output_type": "stream",
     "text": [
      "<class 'pandas.core.frame.DataFrame'>\n",
      "RangeIndex: 58422 entries, 0 to 58421\n",
      "Data columns (total 19 columns):\n",
      " #   Column                Non-Null Count  Dtype  \n",
      "---  ------                --------------  -----  \n",
      " 0   ao_hechos             58405 non-null  float64\n",
      " 1   mes_hechos            58405 non-null  object \n",
      " 2   fecha_hechos          58405 non-null  object \n",
      " 3   ao_inicio             58422 non-null  int64  \n",
      " 4   mes_inicio            58422 non-null  object \n",
      " 5   fecha_inicio          58422 non-null  object \n",
      " 6   delito                58422 non-null  object \n",
      " 7   fiscalia              58422 non-null  object \n",
      " 8   agencia               58422 non-null  object \n",
      " 9   unidad_investigacion  58379 non-null  object \n",
      " 10  categoria_delito      58422 non-null  object \n",
      " 11  calle_hechos          58324 non-null  object \n",
      " 12  calle_hechos2         25522 non-null  object \n",
      " 13  colonia_hechos        57667 non-null  object \n",
      " 14  alcaldia_hechos       58422 non-null  object \n",
      " 15  competencia           13907 non-null  object \n",
      " 16  longitud              57686 non-null  float64\n",
      " 17  latitud               57686 non-null  float64\n",
      " 18  tempo                 0 non-null      float64\n",
      "dtypes: float64(4), int64(1), object(14)\n",
      "memory usage: 8.5+ MB\n",
      "None\n"
     ]
    }
   ],
   "source": [
    "print(df.info())"
   ]
  },
  {
   "cell_type": "code",
   "execution_count": 11,
   "id": "f759e878-e27b-4cc4-9c55-042b80eb2626",
   "metadata": {},
   "outputs": [],
   "source": [
    "df[\"ao_hechos\"] = pd.to_numeric(df[\"ao_hechos\"], errors=\"coerce\")"
   ]
  },
  {
   "cell_type": "code",
   "execution_count": 13,
   "id": "9c007c27-a0a8-4946-bb53-bf6c5b7a8c8c",
   "metadata": {},
   "outputs": [],
   "source": [
    "df[\"ao_inicio\"] = pd.to_numeric(df[\"ao_inicio\"], errors=\"coerce\")"
   ]
  },
  {
   "cell_type": "code",
   "execution_count": 23,
   "id": "5e9c9aba-2833-4bad-8854-a9b3dd80b5ea",
   "metadata": {},
   "outputs": [
    {
     "name": "stdout",
     "output_type": "stream",
     "text": [
      "27\n",
      "31\n",
      "02\n",
      "01\n",
      "25\n"
     ]
    }
   ],
   "source": [
    "for i in range(5):\n",
    "    print(df[\"fecha_hechos\"][i][0:2])"
   ]
  },
  {
   "cell_type": "code",
   "execution_count": null,
   "id": "81f988b3-7de0-41be-834e-edaed4a0549e",
   "metadata": {},
   "outputs": [],
   "source": []
  }
 ],
 "metadata": {
  "kernelspec": {
   "display_name": "Python 3",
   "language": "python",
   "name": "python3"
  },
  "language_info": {
   "codemirror_mode": {
    "name": "ipython",
    "version": 3
   },
   "file_extension": ".py",
   "mimetype": "text/x-python",
   "name": "python",
   "nbconvert_exporter": "python",
   "pygments_lexer": "ipython3",
   "version": "3.8.8"
  }
 },
 "nbformat": 4,
 "nbformat_minor": 5
}
